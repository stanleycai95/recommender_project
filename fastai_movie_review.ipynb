{
  "metadata": {
    "kernelspec": {
      "language": "python",
      "display_name": "Python 3",
      "name": "python3"
    },
    "language_info": {
      "name": "python",
      "version": "3.6.6",
      "mimetype": "text/x-python",
      "codemirror_mode": {
        "name": "ipython",
        "version": 3
      },
      "pygments_lexer": "ipython3",
      "nbconvert_exporter": "python",
      "file_extension": ".py"
    },
    "colab": {
      "name": "fastai-movie-review.ipynb",
      "provenance": [],
      "collapsed_sections": [],
      "include_colab_link": true
    }
  },
  "nbformat_minor": 0,
  "nbformat": 4,
  "cells": [
    {
      "cell_type": "markdown",
      "metadata": {
        "id": "view-in-github",
        "colab_type": "text"
      },
      "source": [
        "<a href=\"https://colab.research.google.com/github/stanleycai95/recommender_project/blob/master/fastai_movie_review.ipynb\" target=\"_parent\"><img src=\"https://colab.research.google.com/assets/colab-badge.svg\" alt=\"Open In Colab\"/></a>"
      ]
    },
    {
      "cell_type": "code",
      "source": [
        "# This Python 3 environment comes with many helpful analytics libraries installed\n",
        "# It is defined by the kaggle/python docker image: https://github.com/kaggle/docker-python\n",
        "# For example, here's several helpful packages to load in \n",
        "\n",
        "# https://www.kaggle.com/datasets/kazanova/sentiment140 TWITTER SENTIMENT ANALYSIS DATASET\n",
        "\n",
        "import numpy as np # linear algebra\n",
        "import pandas as pd # data processing, CSV file I/O (e.g. pd.read_csv)\n",
        "\n",
        "# Input data files are available in the \"../input/\" directory.\n",
        "# For example, running this (by clicking run or pressing Shift+Enter) will list the files in the input directory\n",
        "\n",
        "import os\n",
        "print(os.listdir(\"../input\"))\n",
        "\n",
        "# Any results you write to the current directory are saved as output."
      ],
      "metadata": {
        "_uuid": "8f2839f25d086af736a60e9eeb907d3b93b6e0e5",
        "_cell_guid": "b1076dfc-b9ad-4769-8c92-a6c4dae69d19",
        "execution": {
          "iopub.status.busy": "2022-05-01T13:43:09.594887Z",
          "iopub.execute_input": "2022-05-01T13:43:09.595176Z",
          "iopub.status.idle": "2022-05-01T13:43:09.603684Z",
          "shell.execute_reply.started": "2022-05-01T13:43:09.595125Z",
          "shell.execute_reply": "2022-05-01T13:43:09.602298Z"
        },
        "trusted": true,
        "colab": {
          "base_uri": "https://localhost:8080/",
          "height": 239
        },
        "id": "QvEgvmxi75i0",
        "outputId": "5e869166-4239-48b1-b583-1366b7ed9420"
      },
      "execution_count": 1,
      "outputs": [
        {
          "output_type": "error",
          "ename": "FileNotFoundError",
          "evalue": "ignored",
          "traceback": [
            "\u001b[0;31m---------------------------------------------------------------------------\u001b[0m",
            "\u001b[0;31mFileNotFoundError\u001b[0m                         Traceback (most recent call last)",
            "\u001b[0;32m<ipython-input-1-677e5b8b0f88>\u001b[0m in \u001b[0;36m<module>\u001b[0;34m()\u001b[0m\n\u001b[1;32m     10\u001b[0m \u001b[0;34m\u001b[0m\u001b[0m\n\u001b[1;32m     11\u001b[0m \u001b[0;32mimport\u001b[0m \u001b[0mos\u001b[0m\u001b[0;34m\u001b[0m\u001b[0;34m\u001b[0m\u001b[0m\n\u001b[0;32m---> 12\u001b[0;31m \u001b[0mprint\u001b[0m\u001b[0;34m(\u001b[0m\u001b[0mos\u001b[0m\u001b[0;34m.\u001b[0m\u001b[0mlistdir\u001b[0m\u001b[0;34m(\u001b[0m\u001b[0;34m\"../input\"\u001b[0m\u001b[0;34m)\u001b[0m\u001b[0;34m)\u001b[0m\u001b[0;34m\u001b[0m\u001b[0;34m\u001b[0m\u001b[0m\n\u001b[0m\u001b[1;32m     13\u001b[0m \u001b[0;34m\u001b[0m\u001b[0m\n\u001b[1;32m     14\u001b[0m \u001b[0;31m# Any results you write to the current directory are saved as output.\u001b[0m\u001b[0;34m\u001b[0m\u001b[0;34m\u001b[0m\u001b[0;34m\u001b[0m\u001b[0m\n",
            "\u001b[0;31mFileNotFoundError\u001b[0m: [Errno 2] No such file or directory: '../input'"
          ]
        }
      ]
    },
    {
      "cell_type": "code",
      "source": [
        "from fastai.text import *\n"
      ],
      "metadata": {
        "execution": {
          "iopub.status.busy": "2022-05-01T13:43:32.492935Z",
          "iopub.execute_input": "2022-05-01T13:43:32.493244Z",
          "iopub.status.idle": "2022-05-01T13:43:35.193221Z",
          "shell.execute_reply.started": "2022-05-01T13:43:32.493194Z",
          "shell.execute_reply": "2022-05-01T13:43:35.192577Z"
        },
        "trusted": true,
        "id": "jfLo202Z75i3"
      },
      "execution_count": null,
      "outputs": []
    },
    {
      "cell_type": "code",
      "source": [
        "train = pd.read_csv(\"../input/train.tsv.zip\", sep='\\t')\n",
        "test = pd.read_csv(\"../input/test.tsv.zip\", sep='\\t')\n",
        "#train = train[0:1000]\n",
        "train['Sentiment'] = train['Sentiment'].apply(str)\n"
      ],
      "metadata": {
        "_cell_guid": "79c7e3d0-c299-4dcb-8224-4455121ee9b0",
        "_uuid": "d629ff2d2480ee46fbb7e2d37f6b5fab8052498a",
        "execution": {
          "iopub.status.busy": "2022-05-01T13:44:20.430971Z",
          "iopub.execute_input": "2022-05-01T13:44:20.431275Z",
          "iopub.status.idle": "2022-05-01T13:44:20.853988Z",
          "shell.execute_reply.started": "2022-05-01T13:44:20.431225Z",
          "shell.execute_reply": "2022-05-01T13:44:20.853190Z"
        },
        "trusted": true,
        "id": "s1h1CWuN75i5"
      },
      "execution_count": null,
      "outputs": []
    },
    {
      "cell_type": "code",
      "source": [
        "train.head()\n"
      ],
      "metadata": {
        "execution": {
          "iopub.status.busy": "2022-05-01T13:44:23.641882Z",
          "iopub.execute_input": "2022-05-01T13:44:23.642183Z",
          "iopub.status.idle": "2022-05-01T13:44:23.671372Z",
          "shell.execute_reply.started": "2022-05-01T13:44:23.642132Z",
          "shell.execute_reply": "2022-05-01T13:44:23.670446Z"
        },
        "trusted": true,
        "id": "3u73sp4S75i6"
      },
      "execution_count": null,
      "outputs": []
    },
    {
      "cell_type": "code",
      "source": [
        "test.head()"
      ],
      "metadata": {
        "execution": {
          "iopub.status.busy": "2022-05-01T13:44:24.676746Z",
          "iopub.execute_input": "2022-05-01T13:44:24.677032Z",
          "iopub.status.idle": "2022-05-01T13:44:24.693170Z",
          "shell.execute_reply.started": "2022-05-01T13:44:24.676985Z",
          "shell.execute_reply": "2022-05-01T13:44:24.692142Z"
        },
        "trusted": true,
        "id": "7SIhiJK775i8"
      },
      "execution_count": null,
      "outputs": []
    },
    {
      "cell_type": "code",
      "source": [
        "test_id = test['PhraseId']"
      ],
      "metadata": {
        "execution": {
          "iopub.status.busy": "2022-05-01T13:44:26.116321Z",
          "iopub.execute_input": "2022-05-01T13:44:26.116658Z",
          "iopub.status.idle": "2022-05-01T13:44:26.121045Z",
          "shell.execute_reply.started": "2022-05-01T13:44:26.116606Z",
          "shell.execute_reply": "2022-05-01T13:44:26.120230Z"
        },
        "trusted": true,
        "id": "CRmYMy7d75i9"
      },
      "execution_count": null,
      "outputs": []
    },
    {
      "cell_type": "code",
      "source": [
        "test['Phrase'][0]"
      ],
      "metadata": {
        "execution": {
          "iopub.status.busy": "2022-05-01T13:44:26.842169Z",
          "iopub.execute_input": "2022-05-01T13:44:26.842478Z",
          "iopub.status.idle": "2022-05-01T13:44:26.851185Z",
          "shell.execute_reply.started": "2022-05-01T13:44:26.842426Z",
          "shell.execute_reply": "2022-05-01T13:44:26.850131Z"
        },
        "trusted": true,
        "id": "XrR8JGFW75i_"
      },
      "execution_count": null,
      "outputs": []
    },
    {
      "cell_type": "code",
      "source": [
        "train['Sentiment'].unique()"
      ],
      "metadata": {
        "execution": {
          "iopub.status.busy": "2022-05-01T13:44:27.352416Z",
          "iopub.execute_input": "2022-05-01T13:44:27.352719Z",
          "iopub.status.idle": "2022-05-01T13:44:27.366973Z",
          "shell.execute_reply.started": "2022-05-01T13:44:27.352669Z",
          "shell.execute_reply": "2022-05-01T13:44:27.365853Z"
        },
        "trusted": true,
        "id": "qDPlkLkV75jA"
      },
      "execution_count": null,
      "outputs": []
    },
    {
      "cell_type": "code",
      "source": [
        "data = (TextList.from_df(train, cols='Phrase')\n",
        "                .split_by_rand_pct(0.2)\n",
        "                .label_for_lm()  \n",
        "                .databunch(bs=48))\n",
        "data.show_batch()\n"
      ],
      "metadata": {
        "execution": {
          "iopub.status.busy": "2022-05-01T13:44:28.512361Z",
          "iopub.execute_input": "2022-05-01T13:44:28.512687Z",
          "iopub.status.idle": "2022-05-01T13:46:30.027297Z",
          "shell.execute_reply.started": "2022-05-01T13:44:28.512638Z",
          "shell.execute_reply": "2022-05-01T13:46:30.026512Z"
        },
        "trusted": true,
        "id": "5b0yG_-o75jA"
      },
      "execution_count": null,
      "outputs": []
    },
    {
      "cell_type": "code",
      "source": [
        "learn = language_model_learner(data,AWD_LSTM, drop_mult=0.3)\n"
      ],
      "metadata": {
        "execution": {
          "iopub.status.busy": "2022-05-01T13:46:30.029287Z",
          "iopub.execute_input": "2022-05-01T13:46:30.029597Z",
          "iopub.status.idle": "2022-05-01T13:46:34.487774Z",
          "shell.execute_reply.started": "2022-05-01T13:46:30.029550Z",
          "shell.execute_reply": "2022-05-01T13:46:34.487062Z"
        },
        "trusted": true,
        "id": "n8tNDBMm75jD"
      },
      "execution_count": null,
      "outputs": []
    },
    {
      "cell_type": "code",
      "source": [
        "learn.lr_find()"
      ],
      "metadata": {
        "execution": {
          "iopub.status.busy": "2022-05-01T13:47:08.771488Z",
          "iopub.execute_input": "2022-05-01T13:47:08.771784Z",
          "iopub.status.idle": "2022-05-01T13:47:19.748033Z",
          "shell.execute_reply.started": "2022-05-01T13:47:08.771736Z",
          "shell.execute_reply": "2022-05-01T13:47:19.747072Z"
        },
        "trusted": true,
        "id": "pNrvfmFR75jE"
      },
      "execution_count": null,
      "outputs": []
    },
    {
      "cell_type": "code",
      "source": [
        "learn.recorder.plot()"
      ],
      "metadata": {
        "execution": {
          "iopub.status.busy": "2022-05-01T13:48:15.418298Z",
          "iopub.execute_input": "2022-05-01T13:48:15.418650Z",
          "iopub.status.idle": "2022-05-01T13:48:16.038798Z",
          "shell.execute_reply.started": "2022-05-01T13:48:15.418599Z",
          "shell.execute_reply": "2022-05-01T13:48:16.037895Z"
        },
        "trusted": true,
        "id": "Q3HXJ7km75jF"
      },
      "execution_count": null,
      "outputs": []
    },
    {
      "cell_type": "code",
      "source": [
        "learn.fit_one_cycle(5, 1e-2, moms=(0.8,0.7))\n"
      ],
      "metadata": {
        "execution": {
          "iopub.status.busy": "2022-05-01T13:48:22.645714Z",
          "iopub.execute_input": "2022-05-01T13:48:22.646035Z",
          "iopub.status.idle": "2022-05-01T13:51:23.742094Z",
          "shell.execute_reply.started": "2022-05-01T13:48:22.645975Z",
          "shell.execute_reply": "2022-05-01T13:51:23.741399Z"
        },
        "trusted": true,
        "id": "RcGY0yQC75jG"
      },
      "execution_count": null,
      "outputs": []
    },
    {
      "cell_type": "code",
      "source": [
        " # Tune a little more\n",
        "learn.unfreeze()\n",
        "learn.fit_one_cycle(5, 1e-3, moms=(0.8,0.7))"
      ],
      "metadata": {
        "execution": {
          "iopub.status.busy": "2022-05-01T13:51:59.663533Z",
          "iopub.execute_input": "2022-05-01T13:51:59.663837Z",
          "iopub.status.idle": "2022-05-01T13:55:42.978451Z",
          "shell.execute_reply.started": "2022-05-01T13:51:59.663786Z",
          "shell.execute_reply": "2022-05-01T13:55:42.977438Z"
        },
        "trusted": true,
        "id": "BS90veID75jH"
      },
      "execution_count": null,
      "outputs": []
    },
    {
      "cell_type": "code",
      "source": [
        "learn.save_encoder('fine_tuned_enc')"
      ],
      "metadata": {
        "execution": {
          "iopub.status.busy": "2022-05-01T13:56:50.645474Z",
          "iopub.execute_input": "2022-05-01T13:56:50.645789Z",
          "iopub.status.idle": "2022-05-01T13:56:50.941858Z",
          "shell.execute_reply.started": "2022-05-01T13:56:50.645741Z",
          "shell.execute_reply": "2022-05-01T13:56:50.940723Z"
        },
        "trusted": true,
        "id": "YgLkzIRv75jH"
      },
      "execution_count": null,
      "outputs": []
    },
    {
      "cell_type": "code",
      "source": [
        "test_datalist = TextList.from_df(test, cols='Phrase', vocab=data.vocab)\n",
        "\n",
        "data_clas = (TextList.from_df(train, cols='Phrase', vocab=data.vocab)\n",
        "             .split_by_rand_pct(0.2)\n",
        "             .label_from_df(cols= 'Sentiment')\n",
        "             .add_test(test_datalist)\n",
        "             .databunch(bs=32))\n",
        "\n",
        "data_clas.show_batch()"
      ],
      "metadata": {
        "execution": {
          "iopub.status.busy": "2022-05-01T13:56:53.324568Z",
          "iopub.execute_input": "2022-05-01T13:56:53.324900Z",
          "iopub.status.idle": "2022-05-01T13:59:53.985346Z",
          "shell.execute_reply.started": "2022-05-01T13:56:53.324849Z",
          "shell.execute_reply": "2022-05-01T13:59:53.984495Z"
        },
        "trusted": true,
        "id": "bPZhFEaR75jI"
      },
      "execution_count": null,
      "outputs": []
    },
    {
      "cell_type": "code",
      "source": [
        "learn_classifier = text_classifier_learner(data_clas, AWD_LSTM, drop_mult=0.5)\n",
        "learn_classifier.load_encoder('fine_tuned_enc')\n",
        "learn_classifier.freeze()\n"
      ],
      "metadata": {
        "execution": {
          "iopub.status.busy": "2022-05-01T14:00:10.520973Z",
          "iopub.execute_input": "2022-05-01T14:00:10.521272Z",
          "iopub.status.idle": "2022-05-01T14:00:11.448909Z",
          "shell.execute_reply.started": "2022-05-01T14:00:10.521224Z",
          "shell.execute_reply": "2022-05-01T14:00:11.448073Z"
        },
        "trusted": true,
        "id": "IJQmXTws75jJ"
      },
      "execution_count": null,
      "outputs": []
    },
    {
      "cell_type": "code",
      "source": [
        "learn_classifier.lr_find()\n"
      ],
      "metadata": {
        "execution": {
          "iopub.status.busy": "2022-05-01T14:00:11.450620Z",
          "iopub.execute_input": "2022-05-01T14:00:11.450895Z",
          "iopub.status.idle": "2022-05-01T14:00:18.400893Z",
          "shell.execute_reply.started": "2022-05-01T14:00:11.450849Z",
          "shell.execute_reply": "2022-05-01T14:00:18.399997Z"
        },
        "trusted": true,
        "id": "_iGpxt1p75jJ"
      },
      "execution_count": null,
      "outputs": []
    },
    {
      "cell_type": "code",
      "source": [
        "learn_classifier.recorder.plot()"
      ],
      "metadata": {
        "execution": {
          "iopub.status.busy": "2022-05-01T14:00:18.402979Z",
          "iopub.execute_input": "2022-05-01T14:00:18.403490Z",
          "iopub.status.idle": "2022-05-01T14:00:18.996894Z",
          "shell.execute_reply.started": "2022-05-01T14:00:18.403435Z",
          "shell.execute_reply": "2022-05-01T14:00:18.996054Z"
        },
        "trusted": true,
        "id": "G_7U4NH375jK"
      },
      "execution_count": null,
      "outputs": []
    },
    {
      "cell_type": "code",
      "source": [
        "learn_classifier.fit_one_cycle(5, 2e-2, moms=(0.8,0.7))\n"
      ],
      "metadata": {
        "execution": {
          "iopub.status.busy": "2022-05-01T14:00:18.998453Z",
          "iopub.execute_input": "2022-05-01T14:00:18.998924Z"
        },
        "trusted": true,
        "id": "l4LtxwH475jK"
      },
      "execution_count": null,
      "outputs": []
    },
    {
      "cell_type": "code",
      "source": [
        "learn_classifier.freeze_to(-2)\n",
        "learn_classifier.fit_one_cycle(5, slice(1e-2/(2.6**4),1e-2), moms=(0.8,0.7))\n"
      ],
      "metadata": {
        "trusted": true,
        "id": "7EB2A74h75jL"
      },
      "execution_count": null,
      "outputs": []
    },
    {
      "cell_type": "code",
      "source": [
        "learn_classifier.freeze_to(-3)\n",
        "learn_classifier.fit_one_cycle(5, slice(5e-3/(2.6**4),5e-3), moms=(0.8,0.7))"
      ],
      "metadata": {
        "trusted": true,
        "id": "1q6u-2Sf75jL"
      },
      "execution_count": null,
      "outputs": []
    },
    {
      "cell_type": "code",
      "source": [
        "learn_classifier.show_results()\n"
      ],
      "metadata": {
        "trusted": true,
        "id": "xtjPqDRN75jL"
      },
      "execution_count": null,
      "outputs": []
    },
    {
      "cell_type": "code",
      "source": [
        "preds, target = learn_classifier.get_preds(DatasetType.Test, ordered=True)\n",
        "labels = np.argmax(preds, axis =1)\n"
      ],
      "metadata": {
        "trusted": true,
        "id": "aSUIWmue75jL"
      },
      "execution_count": null,
      "outputs": []
    },
    {
      "cell_type": "code",
      "source": [
        "submission = pd.DataFrame({'PhraseId': test_id, 'Sentiment': labels})\n",
        "submission.to_csv('submission.csv', index=False)\n",
        "submission.head()"
      ],
      "metadata": {
        "trusted": true,
        "id": "hIQX7Bap75jM"
      },
      "execution_count": null,
      "outputs": []
    },
    {
      "cell_type": "code",
      "source": [
        ""
      ],
      "metadata": {
        "trusted": true,
        "id": "iRKaBzsD75jN"
      },
      "execution_count": null,
      "outputs": []
    }
  ]
}