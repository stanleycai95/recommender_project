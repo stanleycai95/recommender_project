{
  "metadata": {
    "kernelspec": {
      "language": "python",
      "display_name": "Python 3",
      "name": "python3"
    },
    "language_info": {
      "name": "python",
      "version": "3.6.6",
      "mimetype": "text/x-python",
      "codemirror_mode": {
        "name": "ipython",
        "version": 3
      },
      "pygments_lexer": "ipython3",
      "nbconvert_exporter": "python",
      "file_extension": ".py"
    },
    "colab": {
      "name": "fastai-tweet-sentiment.ipynb",
      "provenance": [],
      "collapsed_sections": [],
      "include_colab_link": true
    },
    "accelerator": "GPU"
  },
  "nbformat_minor": 0,
  "nbformat": 4,
  "cells": [
    {
      "cell_type": "markdown",
      "metadata": {
        "id": "view-in-github",
        "colab_type": "text"
      },
      "source": [
        "<a href=\"https://colab.research.google.com/github/stanleycai95/recommender_project/blob/master/fastai_tweet_sentiment.ipynb\" target=\"_parent\"><img src=\"https://colab.research.google.com/assets/colab-badge.svg\" alt=\"Open In Colab\"/></a>"
      ]
    },
    {
      "cell_type": "code",
      "source": [
        "# This Python 3 environment comes with many helpful analytics libraries installed\n",
        "# It is defined by the kaggle/python docker image: https://github.com/kaggle/docker-python\n",
        "# For example, here's several helpful packages to load in \n",
        "\n",
        "# https://www.kaggle.com/datasets/kazanova/sentiment140 TWITTER SENTIMENT ANALYSIS DATASET\n",
        "\n",
        "import numpy as np # linear algebra\n",
        "import pandas as pd # data processing, CSV file I/O (e.g. pd.read_csv)\n",
        "\n",
        "# Input data files are available in the \"../input/\" directory.\n",
        "# For example, running this (by clicking run or pressing Shift+Enter) will list the files in the input directory\n",
        "\n",
        "import os\n",
        "print(os.listdir(\"/content/\"))\n",
        "\n",
        "# Any results you write to the current directory are saved as output."
      ],
      "metadata": {
        "_uuid": "8f2839f25d086af736a60e9eeb907d3b93b6e0e5",
        "_cell_guid": "b1076dfc-b9ad-4769-8c92-a6c4dae69d19",
        "execution": {
          "iopub.status.busy": "2022-05-01T13:43:09.594887Z",
          "iopub.execute_input": "2022-05-01T13:43:09.595176Z",
          "iopub.status.idle": "2022-05-01T13:43:09.603684Z",
          "shell.execute_reply.started": "2022-05-01T13:43:09.595125Z",
          "shell.execute_reply": "2022-05-01T13:43:09.602298Z"
        },
        "trusted": true,
        "colab": {
          "base_uri": "https://localhost:8080/"
        },
        "id": "QvEgvmxi75i0",
        "outputId": "d9e2ff44-55bd-459c-bb0f-fca6a0427a96"
      },
      "execution_count": 2,
      "outputs": [
        {
          "output_type": "stream",
          "name": "stdout",
          "text": [
            "['.config', 'sample_data']\n"
          ]
        }
      ]
    },
    {
      "cell_type": "code",
      "source": [
        "from fastai.text import *\n"
      ],
      "metadata": {
        "execution": {
          "iopub.status.busy": "2022-05-01T13:43:32.492935Z",
          "iopub.execute_input": "2022-05-01T13:43:32.493244Z",
          "iopub.status.idle": "2022-05-01T13:43:35.193221Z",
          "shell.execute_reply.started": "2022-05-01T13:43:32.493194Z",
          "shell.execute_reply": "2022-05-01T13:43:35.192577Z"
        },
        "trusted": true,
        "id": "jfLo202Z75i3"
      },
      "execution_count": 3,
      "outputs": []
    },
    {
      "cell_type": "code",
      "source": [
        "full = pd.read_csv('/content/training.1600000.processed.noemoticon.csv', encoding='latin-1')\n",
        "\n",
        "full = full.sample(frac=0.25)\n",
        "full.columns = ['target', 'id', 'date', 'flag', 'user', 'text']\n",
        "\n",
        "full.sort_values(by='date', inplace=True)\n",
        "train = full.iloc[:-100000,:]\n",
        "test = full.iloc[-100000:,:]\n",
        "#train = train[0:1000]\n",
        "# train['Sentiment'] = train['Sentiment'].apply(str)"
      ],
      "metadata": {
        "_cell_guid": "79c7e3d0-c299-4dcb-8224-4455121ee9b0",
        "_uuid": "d629ff2d2480ee46fbb7e2d37f6b5fab8052498a",
        "execution": {
          "iopub.status.busy": "2022-05-01T13:44:20.430971Z",
          "iopub.execute_input": "2022-05-01T13:44:20.431275Z",
          "iopub.status.idle": "2022-05-01T13:44:20.853988Z",
          "shell.execute_reply.started": "2022-05-01T13:44:20.431225Z",
          "shell.execute_reply": "2022-05-01T13:44:20.853190Z"
        },
        "trusted": true,
        "id": "s1h1CWuN75i5"
      },
      "execution_count": 6,
      "outputs": []
    },
    {
      "cell_type": "code",
      "source": [
        "train.head()"
      ],
      "metadata": {
        "execution": {
          "iopub.status.busy": "2022-05-01T13:44:23.641882Z",
          "iopub.execute_input": "2022-05-01T13:44:23.642183Z",
          "iopub.status.idle": "2022-05-01T13:44:23.671372Z",
          "shell.execute_reply.started": "2022-05-01T13:44:23.642132Z",
          "shell.execute_reply": "2022-05-01T13:44:23.670446Z"
        },
        "trusted": true,
        "id": "3u73sp4S75i6",
        "colab": {
          "base_uri": "https://localhost:8080/",
          "height": 337
        },
        "outputId": "fe667145-ecf0-411b-92f4-69a3989e3a66"
      },
      "execution_count": 7,
      "outputs": [
        {
          "output_type": "execute_result",
          "data": {
            "text/plain": [
              "      target          id                          date      flag  \\\n",
              "8584       0  1548276360  Fri Apr 17 20:30:47 PDT 2009  NO_QUERY   \n",
              "8591       0  1548277792  Fri Apr 17 20:31:04 PDT 2009  NO_QUERY   \n",
              "8593       0  1548277960  Fri Apr 17 20:31:05 PDT 2009  NO_QUERY   \n",
              "8596       0  1548278352  Fri Apr 17 20:31:08 PDT 2009  NO_QUERY   \n",
              "8601       0  1548279034  Fri Apr 17 20:31:12 PDT 2009  NO_QUERY   \n",
              "\n",
              "                 user                                               text  \n",
              "8584  customcanvasart  @USEOFFORCEENT so sorry for your loss honey  I...  \n",
              "8591         leabella  Actually I had 503   maybe I should put my web...  \n",
              "8593        AnitaKoch  @lkhalladay Colorado's a beautiful state, but ...  \n",
              "8596  torilovesbradie  @charlii1 haha. He's he'll player/ladies man t...  \n",
              "8601    sanamhatesyou  sexi boi u so fly wish i could give u a try bu...  "
            ],
            "text/html": [
              "\n",
              "  <div id=\"df-ee9c76de-a21c-4666-9f98-dbab14aa1f92\">\n",
              "    <div class=\"colab-df-container\">\n",
              "      <div>\n",
              "<style scoped>\n",
              "    .dataframe tbody tr th:only-of-type {\n",
              "        vertical-align: middle;\n",
              "    }\n",
              "\n",
              "    .dataframe tbody tr th {\n",
              "        vertical-align: top;\n",
              "    }\n",
              "\n",
              "    .dataframe thead th {\n",
              "        text-align: right;\n",
              "    }\n",
              "</style>\n",
              "<table border=\"1\" class=\"dataframe\">\n",
              "  <thead>\n",
              "    <tr style=\"text-align: right;\">\n",
              "      <th></th>\n",
              "      <th>target</th>\n",
              "      <th>id</th>\n",
              "      <th>date</th>\n",
              "      <th>flag</th>\n",
              "      <th>user</th>\n",
              "      <th>text</th>\n",
              "    </tr>\n",
              "  </thead>\n",
              "  <tbody>\n",
              "    <tr>\n",
              "      <th>8584</th>\n",
              "      <td>0</td>\n",
              "      <td>1548276360</td>\n",
              "      <td>Fri Apr 17 20:30:47 PDT 2009</td>\n",
              "      <td>NO_QUERY</td>\n",
              "      <td>customcanvasart</td>\n",
              "      <td>@USEOFFORCEENT so sorry for your loss honey  I...</td>\n",
              "    </tr>\n",
              "    <tr>\n",
              "      <th>8591</th>\n",
              "      <td>0</td>\n",
              "      <td>1548277792</td>\n",
              "      <td>Fri Apr 17 20:31:04 PDT 2009</td>\n",
              "      <td>NO_QUERY</td>\n",
              "      <td>leabella</td>\n",
              "      <td>Actually I had 503   maybe I should put my web...</td>\n",
              "    </tr>\n",
              "    <tr>\n",
              "      <th>8593</th>\n",
              "      <td>0</td>\n",
              "      <td>1548277960</td>\n",
              "      <td>Fri Apr 17 20:31:05 PDT 2009</td>\n",
              "      <td>NO_QUERY</td>\n",
              "      <td>AnitaKoch</td>\n",
              "      <td>@lkhalladay Colorado's a beautiful state, but ...</td>\n",
              "    </tr>\n",
              "    <tr>\n",
              "      <th>8596</th>\n",
              "      <td>0</td>\n",
              "      <td>1548278352</td>\n",
              "      <td>Fri Apr 17 20:31:08 PDT 2009</td>\n",
              "      <td>NO_QUERY</td>\n",
              "      <td>torilovesbradie</td>\n",
              "      <td>@charlii1 haha. He's he'll player/ladies man t...</td>\n",
              "    </tr>\n",
              "    <tr>\n",
              "      <th>8601</th>\n",
              "      <td>0</td>\n",
              "      <td>1548279034</td>\n",
              "      <td>Fri Apr 17 20:31:12 PDT 2009</td>\n",
              "      <td>NO_QUERY</td>\n",
              "      <td>sanamhatesyou</td>\n",
              "      <td>sexi boi u so fly wish i could give u a try bu...</td>\n",
              "    </tr>\n",
              "  </tbody>\n",
              "</table>\n",
              "</div>\n",
              "      <button class=\"colab-df-convert\" onclick=\"convertToInteractive('df-ee9c76de-a21c-4666-9f98-dbab14aa1f92')\"\n",
              "              title=\"Convert this dataframe to an interactive table.\"\n",
              "              style=\"display:none;\">\n",
              "        \n",
              "  <svg xmlns=\"http://www.w3.org/2000/svg\" height=\"24px\"viewBox=\"0 0 24 24\"\n",
              "       width=\"24px\">\n",
              "    <path d=\"M0 0h24v24H0V0z\" fill=\"none\"/>\n",
              "    <path d=\"M18.56 5.44l.94 2.06.94-2.06 2.06-.94-2.06-.94-.94-2.06-.94 2.06-2.06.94zm-11 1L8.5 8.5l.94-2.06 2.06-.94-2.06-.94L8.5 2.5l-.94 2.06-2.06.94zm10 10l.94 2.06.94-2.06 2.06-.94-2.06-.94-.94-2.06-.94 2.06-2.06.94z\"/><path d=\"M17.41 7.96l-1.37-1.37c-.4-.4-.92-.59-1.43-.59-.52 0-1.04.2-1.43.59L10.3 9.45l-7.72 7.72c-.78.78-.78 2.05 0 2.83L4 21.41c.39.39.9.59 1.41.59.51 0 1.02-.2 1.41-.59l7.78-7.78 2.81-2.81c.8-.78.8-2.07 0-2.86zM5.41 20L4 18.59l7.72-7.72 1.47 1.35L5.41 20z\"/>\n",
              "  </svg>\n",
              "      </button>\n",
              "      \n",
              "  <style>\n",
              "    .colab-df-container {\n",
              "      display:flex;\n",
              "      flex-wrap:wrap;\n",
              "      gap: 12px;\n",
              "    }\n",
              "\n",
              "    .colab-df-convert {\n",
              "      background-color: #E8F0FE;\n",
              "      border: none;\n",
              "      border-radius: 50%;\n",
              "      cursor: pointer;\n",
              "      display: none;\n",
              "      fill: #1967D2;\n",
              "      height: 32px;\n",
              "      padding: 0 0 0 0;\n",
              "      width: 32px;\n",
              "    }\n",
              "\n",
              "    .colab-df-convert:hover {\n",
              "      background-color: #E2EBFA;\n",
              "      box-shadow: 0px 1px 2px rgba(60, 64, 67, 0.3), 0px 1px 3px 1px rgba(60, 64, 67, 0.15);\n",
              "      fill: #174EA6;\n",
              "    }\n",
              "\n",
              "    [theme=dark] .colab-df-convert {\n",
              "      background-color: #3B4455;\n",
              "      fill: #D2E3FC;\n",
              "    }\n",
              "\n",
              "    [theme=dark] .colab-df-convert:hover {\n",
              "      background-color: #434B5C;\n",
              "      box-shadow: 0px 1px 3px 1px rgba(0, 0, 0, 0.15);\n",
              "      filter: drop-shadow(0px 1px 2px rgba(0, 0, 0, 0.3));\n",
              "      fill: #FFFFFF;\n",
              "    }\n",
              "  </style>\n",
              "\n",
              "      <script>\n",
              "        const buttonEl =\n",
              "          document.querySelector('#df-ee9c76de-a21c-4666-9f98-dbab14aa1f92 button.colab-df-convert');\n",
              "        buttonEl.style.display =\n",
              "          google.colab.kernel.accessAllowed ? 'block' : 'none';\n",
              "\n",
              "        async function convertToInteractive(key) {\n",
              "          const element = document.querySelector('#df-ee9c76de-a21c-4666-9f98-dbab14aa1f92');\n",
              "          const dataTable =\n",
              "            await google.colab.kernel.invokeFunction('convertToInteractive',\n",
              "                                                     [key], {});\n",
              "          if (!dataTable) return;\n",
              "\n",
              "          const docLinkHtml = 'Like what you see? Visit the ' +\n",
              "            '<a target=\"_blank\" href=https://colab.research.google.com/notebooks/data_table.ipynb>data table notebook</a>'\n",
              "            + ' to learn more about interactive tables.';\n",
              "          element.innerHTML = '';\n",
              "          dataTable['output_type'] = 'display_data';\n",
              "          await google.colab.output.renderOutput(dataTable, element);\n",
              "          const docLink = document.createElement('div');\n",
              "          docLink.innerHTML = docLinkHtml;\n",
              "          element.appendChild(docLink);\n",
              "        }\n",
              "      </script>\n",
              "    </div>\n",
              "  </div>\n",
              "  "
            ]
          },
          "metadata": {},
          "execution_count": 7
        }
      ]
    },
    {
      "cell_type": "code",
      "source": [
        "test.head()"
      ],
      "metadata": {
        "execution": {
          "iopub.status.busy": "2022-05-01T13:44:24.676746Z",
          "iopub.execute_input": "2022-05-01T13:44:24.677032Z",
          "iopub.status.idle": "2022-05-01T13:44:24.693170Z",
          "shell.execute_reply.started": "2022-05-01T13:44:24.676985Z",
          "shell.execute_reply": "2022-05-01T13:44:24.692142Z"
        },
        "trusted": true,
        "id": "7SIhiJK775i8",
        "colab": {
          "base_uri": "https://localhost:8080/",
          "height": 337
        },
        "outputId": "cd92d52d-851b-4f88-fc2c-135a492b7427"
      },
      "execution_count": 8,
      "outputs": [
        {
          "output_type": "execute_result",
          "data": {
            "text/plain": [
              "         target          id                          date      flag  \\\n",
              "1202990       4  1985965484  Sun May 31 18:06:23 PDT 2009  NO_QUERY   \n",
              "1202996       4  1985965596  Sun May 31 18:06:23 PDT 2009  NO_QUERY   \n",
              "1203004       4  1985966007  Sun May 31 18:06:26 PDT 2009  NO_QUERY   \n",
              "1203009       4  1985966176  Sun May 31 18:06:27 PDT 2009  NO_QUERY   \n",
              "261653        0  1985966373  Sun May 31 18:06:28 PDT 2009  NO_QUERY   \n",
              "\n",
              "                    user                                               text  \n",
              "1202990       BrookieeeW                                Loves Andy Samberg   \n",
              "1202996  excusemeofficer  @mileycyrus Mileyy good luck! i'm sure you'll ...  \n",
              "1203004   shamamillaytea  There he is. Robert pattinson. Looking better ...  \n",
              "1203009       tokyotopia  Hey everyone  @ShaneSakata and I had an exciti...  \n",
              "261653        bluejune18                                  need to do my hw   "
            ],
            "text/html": [
              "\n",
              "  <div id=\"df-795b7ffa-da4b-4829-8275-79979ffb734c\">\n",
              "    <div class=\"colab-df-container\">\n",
              "      <div>\n",
              "<style scoped>\n",
              "    .dataframe tbody tr th:only-of-type {\n",
              "        vertical-align: middle;\n",
              "    }\n",
              "\n",
              "    .dataframe tbody tr th {\n",
              "        vertical-align: top;\n",
              "    }\n",
              "\n",
              "    .dataframe thead th {\n",
              "        text-align: right;\n",
              "    }\n",
              "</style>\n",
              "<table border=\"1\" class=\"dataframe\">\n",
              "  <thead>\n",
              "    <tr style=\"text-align: right;\">\n",
              "      <th></th>\n",
              "      <th>target</th>\n",
              "      <th>id</th>\n",
              "      <th>date</th>\n",
              "      <th>flag</th>\n",
              "      <th>user</th>\n",
              "      <th>text</th>\n",
              "    </tr>\n",
              "  </thead>\n",
              "  <tbody>\n",
              "    <tr>\n",
              "      <th>1202990</th>\n",
              "      <td>4</td>\n",
              "      <td>1985965484</td>\n",
              "      <td>Sun May 31 18:06:23 PDT 2009</td>\n",
              "      <td>NO_QUERY</td>\n",
              "      <td>BrookieeeW</td>\n",
              "      <td>Loves Andy Samberg</td>\n",
              "    </tr>\n",
              "    <tr>\n",
              "      <th>1202996</th>\n",
              "      <td>4</td>\n",
              "      <td>1985965596</td>\n",
              "      <td>Sun May 31 18:06:23 PDT 2009</td>\n",
              "      <td>NO_QUERY</td>\n",
              "      <td>excusemeofficer</td>\n",
              "      <td>@mileycyrus Mileyy good luck! i'm sure you'll ...</td>\n",
              "    </tr>\n",
              "    <tr>\n",
              "      <th>1203004</th>\n",
              "      <td>4</td>\n",
              "      <td>1985966007</td>\n",
              "      <td>Sun May 31 18:06:26 PDT 2009</td>\n",
              "      <td>NO_QUERY</td>\n",
              "      <td>shamamillaytea</td>\n",
              "      <td>There he is. Robert pattinson. Looking better ...</td>\n",
              "    </tr>\n",
              "    <tr>\n",
              "      <th>1203009</th>\n",
              "      <td>4</td>\n",
              "      <td>1985966176</td>\n",
              "      <td>Sun May 31 18:06:27 PDT 2009</td>\n",
              "      <td>NO_QUERY</td>\n",
              "      <td>tokyotopia</td>\n",
              "      <td>Hey everyone  @ShaneSakata and I had an exciti...</td>\n",
              "    </tr>\n",
              "    <tr>\n",
              "      <th>261653</th>\n",
              "      <td>0</td>\n",
              "      <td>1985966373</td>\n",
              "      <td>Sun May 31 18:06:28 PDT 2009</td>\n",
              "      <td>NO_QUERY</td>\n",
              "      <td>bluejune18</td>\n",
              "      <td>need to do my hw</td>\n",
              "    </tr>\n",
              "  </tbody>\n",
              "</table>\n",
              "</div>\n",
              "      <button class=\"colab-df-convert\" onclick=\"convertToInteractive('df-795b7ffa-da4b-4829-8275-79979ffb734c')\"\n",
              "              title=\"Convert this dataframe to an interactive table.\"\n",
              "              style=\"display:none;\">\n",
              "        \n",
              "  <svg xmlns=\"http://www.w3.org/2000/svg\" height=\"24px\"viewBox=\"0 0 24 24\"\n",
              "       width=\"24px\">\n",
              "    <path d=\"M0 0h24v24H0V0z\" fill=\"none\"/>\n",
              "    <path d=\"M18.56 5.44l.94 2.06.94-2.06 2.06-.94-2.06-.94-.94-2.06-.94 2.06-2.06.94zm-11 1L8.5 8.5l.94-2.06 2.06-.94-2.06-.94L8.5 2.5l-.94 2.06-2.06.94zm10 10l.94 2.06.94-2.06 2.06-.94-2.06-.94-.94-2.06-.94 2.06-2.06.94z\"/><path d=\"M17.41 7.96l-1.37-1.37c-.4-.4-.92-.59-1.43-.59-.52 0-1.04.2-1.43.59L10.3 9.45l-7.72 7.72c-.78.78-.78 2.05 0 2.83L4 21.41c.39.39.9.59 1.41.59.51 0 1.02-.2 1.41-.59l7.78-7.78 2.81-2.81c.8-.78.8-2.07 0-2.86zM5.41 20L4 18.59l7.72-7.72 1.47 1.35L5.41 20z\"/>\n",
              "  </svg>\n",
              "      </button>\n",
              "      \n",
              "  <style>\n",
              "    .colab-df-container {\n",
              "      display:flex;\n",
              "      flex-wrap:wrap;\n",
              "      gap: 12px;\n",
              "    }\n",
              "\n",
              "    .colab-df-convert {\n",
              "      background-color: #E8F0FE;\n",
              "      border: none;\n",
              "      border-radius: 50%;\n",
              "      cursor: pointer;\n",
              "      display: none;\n",
              "      fill: #1967D2;\n",
              "      height: 32px;\n",
              "      padding: 0 0 0 0;\n",
              "      width: 32px;\n",
              "    }\n",
              "\n",
              "    .colab-df-convert:hover {\n",
              "      background-color: #E2EBFA;\n",
              "      box-shadow: 0px 1px 2px rgba(60, 64, 67, 0.3), 0px 1px 3px 1px rgba(60, 64, 67, 0.15);\n",
              "      fill: #174EA6;\n",
              "    }\n",
              "\n",
              "    [theme=dark] .colab-df-convert {\n",
              "      background-color: #3B4455;\n",
              "      fill: #D2E3FC;\n",
              "    }\n",
              "\n",
              "    [theme=dark] .colab-df-convert:hover {\n",
              "      background-color: #434B5C;\n",
              "      box-shadow: 0px 1px 3px 1px rgba(0, 0, 0, 0.15);\n",
              "      filter: drop-shadow(0px 1px 2px rgba(0, 0, 0, 0.3));\n",
              "      fill: #FFFFFF;\n",
              "    }\n",
              "  </style>\n",
              "\n",
              "      <script>\n",
              "        const buttonEl =\n",
              "          document.querySelector('#df-795b7ffa-da4b-4829-8275-79979ffb734c button.colab-df-convert');\n",
              "        buttonEl.style.display =\n",
              "          google.colab.kernel.accessAllowed ? 'block' : 'none';\n",
              "\n",
              "        async function convertToInteractive(key) {\n",
              "          const element = document.querySelector('#df-795b7ffa-da4b-4829-8275-79979ffb734c');\n",
              "          const dataTable =\n",
              "            await google.colab.kernel.invokeFunction('convertToInteractive',\n",
              "                                                     [key], {});\n",
              "          if (!dataTable) return;\n",
              "\n",
              "          const docLinkHtml = 'Like what you see? Visit the ' +\n",
              "            '<a target=\"_blank\" href=https://colab.research.google.com/notebooks/data_table.ipynb>data table notebook</a>'\n",
              "            + ' to learn more about interactive tables.';\n",
              "          element.innerHTML = '';\n",
              "          dataTable['output_type'] = 'display_data';\n",
              "          await google.colab.output.renderOutput(dataTable, element);\n",
              "          const docLink = document.createElement('div');\n",
              "          docLink.innerHTML = docLinkHtml;\n",
              "          element.appendChild(docLink);\n",
              "        }\n",
              "      </script>\n",
              "    </div>\n",
              "  </div>\n",
              "  "
            ]
          },
          "metadata": {},
          "execution_count": 8
        }
      ]
    },
    {
      "cell_type": "code",
      "source": [
        "test_id = test['id']"
      ],
      "metadata": {
        "execution": {
          "iopub.status.busy": "2022-05-01T13:44:26.116321Z",
          "iopub.execute_input": "2022-05-01T13:44:26.116658Z",
          "iopub.status.idle": "2022-05-01T13:44:26.121045Z",
          "shell.execute_reply.started": "2022-05-01T13:44:26.116606Z",
          "shell.execute_reply": "2022-05-01T13:44:26.120230Z"
        },
        "trusted": true,
        "id": "CRmYMy7d75i9"
      },
      "execution_count": 9,
      "outputs": []
    },
    {
      "cell_type": "code",
      "source": [
        "test['text'].iloc[0]"
      ],
      "metadata": {
        "execution": {
          "iopub.status.busy": "2022-05-01T13:44:26.842169Z",
          "iopub.execute_input": "2022-05-01T13:44:26.842478Z",
          "iopub.status.idle": "2022-05-01T13:44:26.851185Z",
          "shell.execute_reply.started": "2022-05-01T13:44:26.842426Z",
          "shell.execute_reply": "2022-05-01T13:44:26.850131Z"
        },
        "trusted": true,
        "id": "XrR8JGFW75i_",
        "colab": {
          "base_uri": "https://localhost:8080/",
          "height": 35
        },
        "outputId": "091723ba-7607-4a1c-dba0-618a9ab0936c"
      },
      "execution_count": 10,
      "outputs": [
        {
          "output_type": "execute_result",
          "data": {
            "text/plain": [
              "'Loves Andy Samberg '"
            ],
            "application/vnd.google.colaboratory.intrinsic+json": {
              "type": "string"
            }
          },
          "metadata": {},
          "execution_count": 10
        }
      ]
    },
    {
      "cell_type": "code",
      "source": [
        "train['target'].unique()"
      ],
      "metadata": {
        "execution": {
          "iopub.status.busy": "2022-05-01T13:44:27.352416Z",
          "iopub.execute_input": "2022-05-01T13:44:27.352719Z",
          "iopub.status.idle": "2022-05-01T13:44:27.366973Z",
          "shell.execute_reply.started": "2022-05-01T13:44:27.352669Z",
          "shell.execute_reply": "2022-05-01T13:44:27.365853Z"
        },
        "trusted": true,
        "id": "qDPlkLkV75jA",
        "colab": {
          "base_uri": "https://localhost:8080/"
        },
        "outputId": "cc454fbf-5bea-428e-a61a-73efce1c5f30"
      },
      "execution_count": 11,
      "outputs": [
        {
          "output_type": "execute_result",
          "data": {
            "text/plain": [
              "array([0, 4])"
            ]
          },
          "metadata": {},
          "execution_count": 11
        }
      ]
    },
    {
      "cell_type": "code",
      "source": [
        "data = (TextList.from_df(train, cols='text')\n",
        "                .split_by_rand_pct(0.2)\n",
        "                .label_for_lm()  \n",
        "                .databunch(bs=48))\n",
        "data.show_batch()\n"
      ],
      "metadata": {
        "execution": {
          "iopub.status.busy": "2022-05-01T13:44:28.512361Z",
          "iopub.execute_input": "2022-05-01T13:44:28.512687Z",
          "iopub.status.idle": "2022-05-01T13:46:30.027297Z",
          "shell.execute_reply.started": "2022-05-01T13:44:28.512638Z",
          "shell.execute_reply": "2022-05-01T13:46:30.026512Z"
        },
        "trusted": true,
        "id": "5b0yG_-o75jA",
        "colab": {
          "base_uri": "https://localhost:8080/",
          "height": 435
        },
        "outputId": "d412083a-4a4c-48b7-8cca-1f25f0938b6b"
      },
      "execution_count": 12,
      "outputs": [
        {
          "output_type": "display_data",
          "data": {
            "text/plain": [
              "<IPython.core.display.HTML object>"
            ],
            "text/html": [
              "\n",
              "<style>\n",
              "    /* Turns off some styling */\n",
              "    progress {\n",
              "        /* gets rid of default border in Firefox and Opera. */\n",
              "        border: none;\n",
              "        /* Needs to be in here for Safari polyfill so background images work as expected. */\n",
              "        background-size: auto;\n",
              "    }\n",
              "    .progress-bar-interrupted, .progress-bar-interrupted::-webkit-progress-bar {\n",
              "        background: #F44336;\n",
              "    }\n",
              "</style>\n"
            ]
          },
          "metadata": {}
        },
        {
          "output_type": "display_data",
          "data": {
            "text/plain": [
              "<IPython.core.display.HTML object>"
            ],
            "text/html": [
              ""
            ]
          },
          "metadata": {}
        },
        {
          "output_type": "stream",
          "name": "stderr",
          "text": [
            "/usr/local/lib/python3.7/dist-packages/fastai/core.py:302: VisibleDeprecationWarning: Creating an ndarray from ragged nested sequences (which is a list-or-tuple of lists-or-tuples-or ndarrays with different lengths or shapes) is deprecated. If you meant to do this, you must specify 'dtype=object' when creating the ndarray.\n",
            "  return np.array(a, dtype=dtype, **kwargs)\n"
          ]
        },
        {
          "output_type": "display_data",
          "data": {
            "text/plain": [
              "<IPython.core.display.HTML object>"
            ],
            "text/html": [
              "\n",
              "<style>\n",
              "    /* Turns off some styling */\n",
              "    progress {\n",
              "        /* gets rid of default border in Firefox and Opera. */\n",
              "        border: none;\n",
              "        /* Needs to be in here for Safari polyfill so background images work as expected. */\n",
              "        background-size: auto;\n",
              "    }\n",
              "    .progress-bar-interrupted, .progress-bar-interrupted::-webkit-progress-bar {\n",
              "        background: #F44336;\n",
              "    }\n",
              "</style>\n"
            ]
          },
          "metadata": {}
        },
        {
          "output_type": "display_data",
          "data": {
            "text/plain": [
              "<IPython.core.display.HTML object>"
            ],
            "text/html": [
              ""
            ]
          },
          "metadata": {}
        },
        {
          "output_type": "display_data",
          "data": {
            "text/plain": [
              "<IPython.core.display.HTML object>"
            ],
            "text/html": [
              "<table border=\"1\" class=\"dataframe\">\n",
              "  <thead>\n",
              "    <tr style=\"text-align: right;\">\n",
              "      <th>idx</th>\n",
              "      <th>text</th>\n",
              "    </tr>\n",
              "  </thead>\n",
              "  <tbody>\n",
              "    <tr>\n",
              "      <td>0</td>\n",
              "      <td>xxbos xxunk sorry babes . xxmaj wanna message me and tell meh what 's wrong ? ? xxbos xxunk xxmaj of course i 'm excited too ! xxmaj pictures ! xxmaj you know me ! xxup lol xxmaj john has to work though so it 's a bummer xxrep 4 . xxbos xxmaj is heading to bed after a long day of meetings , sushi and wine ! xxmaj plus</td>\n",
              "    </tr>\n",
              "    <tr>\n",
              "      <td>1</td>\n",
              "      <td>appreciate it . i got you on myspace later . xxup surprise xxbos xxmaj time to get the night started .. hopefully it ends well xxbos working on xxunk xxbos xxunk xxmaj welcome to the team ... for every team member added , the level of shenanigans seems to rise . xxmaj ca n't wait . xxbos @agentbooth xxmaj yes she did , there 's proof . xxmaj you two</td>\n",
              "    </tr>\n",
              "    <tr>\n",
              "      <td>2</td>\n",
              "      <td>. xxmaj go xxmaj rays ! ! ! xxbos i might be bipolar fuck my life forreal i m over this shit xxbos it 's not xxrep 5 . i am very disappointed xxbos xxmaj does not miss caffeine , but does miss his flavored coffee . xxbos xxmaj both movies tonight were pretty bad lol they were the two i said i was nt going to watch too .</td>\n",
              "    </tr>\n",
              "    <tr>\n",
              "      <td>3</td>\n",
              "      <td>xxmaj google xxmaj toolbar for xxmaj chrome ? :| i no xxunk this xxbos xxunk xxunk : xxmaj it 's sold out xxbos xxmaj wish i was feeling better already xxbos it is not allowed to rain . xxbos xxunk i hope you guys do n't have too good a time . xxbos xxmaj thinks your sweet but i stil feel ill , x x xxbos bunch of work to</td>\n",
              "    </tr>\n",
              "    <tr>\n",
              "      <td>4</td>\n",
              "      <td>industry is xxunk xxbos xxup rip xxmaj dennis xxunk - he fought a xxunk fight xxunk chronic , progressive xxup ms for over 20 years . xxmaj you 'll be missed , xxmaj denny ! xxbos xxunk xxmaj would xxunk be an option ? xxmaj otherwise xxmaj dan says first gathering will be going over this stuff . xxmaj what 's the conflict for xxmaj sat ? xxbos @ xxunk</td>\n",
              "    </tr>\n",
              "  </tbody>\n",
              "</table>"
            ]
          },
          "metadata": {}
        }
      ]
    },
    {
      "cell_type": "code",
      "source": [
        "learn = language_model_learner(data,AWD_LSTM, drop_mult=0.3)\n"
      ],
      "metadata": {
        "execution": {
          "iopub.status.busy": "2022-05-01T13:46:30.029287Z",
          "iopub.execute_input": "2022-05-01T13:46:30.029597Z",
          "iopub.status.idle": "2022-05-01T13:46:34.487774Z",
          "shell.execute_reply.started": "2022-05-01T13:46:30.029550Z",
          "shell.execute_reply": "2022-05-01T13:46:34.487062Z"
        },
        "trusted": true,
        "id": "n8tNDBMm75jD",
        "colab": {
          "base_uri": "https://localhost:8080/",
          "height": 35
        },
        "outputId": "f3a1b4d2-92ed-48d2-c035-35a52a99a1a1"
      },
      "execution_count": 13,
      "outputs": [
        {
          "output_type": "stream",
          "name": "stdout",
          "text": [
            "Downloading https://s3.amazonaws.com/fast-ai-modelzoo/wt103-fwd.tgz\n"
          ]
        },
        {
          "output_type": "display_data",
          "data": {
            "text/plain": [
              "<IPython.core.display.HTML object>"
            ],
            "text/html": [
              "\n",
              "<style>\n",
              "    /* Turns off some styling */\n",
              "    progress {\n",
              "        /* gets rid of default border in Firefox and Opera. */\n",
              "        border: none;\n",
              "        /* Needs to be in here for Safari polyfill so background images work as expected. */\n",
              "        background-size: auto;\n",
              "    }\n",
              "    .progress-bar-interrupted, .progress-bar-interrupted::-webkit-progress-bar {\n",
              "        background: #F44336;\n",
              "    }\n",
              "</style>\n"
            ]
          },
          "metadata": {}
        },
        {
          "output_type": "display_data",
          "data": {
            "text/plain": [
              "<IPython.core.display.HTML object>"
            ],
            "text/html": [
              ""
            ]
          },
          "metadata": {}
        }
      ]
    },
    {
      "cell_type": "code",
      "source": [
        "learn.lr_find()"
      ],
      "metadata": {
        "execution": {
          "iopub.status.busy": "2022-05-01T13:47:08.771488Z",
          "iopub.execute_input": "2022-05-01T13:47:08.771784Z",
          "iopub.status.idle": "2022-05-01T13:47:19.748033Z",
          "shell.execute_reply.started": "2022-05-01T13:47:08.771736Z",
          "shell.execute_reply": "2022-05-01T13:47:19.747072Z"
        },
        "trusted": true,
        "id": "pNrvfmFR75jE",
        "colab": {
          "base_uri": "https://localhost:8080/",
          "height": 113
        },
        "outputId": "dab4381d-e312-42df-a918-2f3075421e60"
      },
      "execution_count": 14,
      "outputs": [
        {
          "output_type": "display_data",
          "data": {
            "text/plain": [
              "<IPython.core.display.HTML object>"
            ],
            "text/html": [
              "\n",
              "<style>\n",
              "    /* Turns off some styling */\n",
              "    progress {\n",
              "        /* gets rid of default border in Firefox and Opera. */\n",
              "        border: none;\n",
              "        /* Needs to be in here for Safari polyfill so background images work as expected. */\n",
              "        background-size: auto;\n",
              "    }\n",
              "    .progress-bar-interrupted, .progress-bar-interrupted::-webkit-progress-bar {\n",
              "        background: #F44336;\n",
              "    }\n",
              "</style>\n"
            ]
          },
          "metadata": {}
        },
        {
          "output_type": "display_data",
          "data": {
            "text/plain": [
              "<IPython.core.display.HTML object>"
            ],
            "text/html": [
              "\n",
              "    <div>\n",
              "      <progress value='0' class='' max='1' style='width:300px; height:20px; vertical-align: middle;'></progress>\n",
              "      0.00% [0/1 00:00<00:00]\n",
              "    </div>\n",
              "    \n",
              "<table border=\"1\" class=\"dataframe\">\n",
              "  <thead>\n",
              "    <tr style=\"text-align: left;\">\n",
              "      <th>epoch</th>\n",
              "      <th>train_loss</th>\n",
              "      <th>valid_loss</th>\n",
              "      <th>accuracy</th>\n",
              "      <th>time</th>\n",
              "    </tr>\n",
              "  </thead>\n",
              "  <tbody>\n",
              "  </tbody>\n",
              "</table><p>\n",
              "\n",
              "    <div>\n",
              "      <progress value='99' class='' max='1338' style='width:300px; height:20px; vertical-align: middle;'></progress>\n",
              "      7.40% [99/1338 01:01<12:51 11.2399]\n",
              "    </div>\n",
              "    "
            ]
          },
          "metadata": {}
        },
        {
          "output_type": "stream",
          "name": "stdout",
          "text": [
            "LR Finder is complete, type {learner_name}.recorder.plot() to see the graph.\n"
          ]
        }
      ]
    },
    {
      "cell_type": "code",
      "source": [
        "learn.recorder.plot()"
      ],
      "metadata": {
        "execution": {
          "iopub.status.busy": "2022-05-01T13:48:15.418298Z",
          "iopub.execute_input": "2022-05-01T13:48:15.418650Z",
          "iopub.status.idle": "2022-05-01T13:48:16.038798Z",
          "shell.execute_reply.started": "2022-05-01T13:48:15.418599Z",
          "shell.execute_reply": "2022-05-01T13:48:16.037895Z"
        },
        "trusted": true,
        "id": "Q3HXJ7km75jF",
        "colab": {
          "base_uri": "https://localhost:8080/",
          "height": 279
        },
        "outputId": "d5c567c7-3008-4be8-8ec9-8fac8f826938"
      },
      "execution_count": 15,
      "outputs": [
        {
          "output_type": "display_data",
          "data": {
            "text/plain": [
              "<Figure size 432x288 with 1 Axes>"
            ],
            "image/png": "[encoded data removed]"
          },
          "metadata": {
            "needs_background": "light"
          }
        }
      ]
    },
    {
      "cell_type": "code",
      "source": [
        "learn.fit_one_cycle(5, 1e-2, moms=(0.8,0.7))\n"
      ],
      "metadata": {
        "execution": {
          "iopub.status.busy": "2022-05-01T13:48:22.645714Z",
          "iopub.execute_input": "2022-05-01T13:48:22.646035Z",
          "iopub.status.idle": "2022-05-01T13:51:23.742094Z",
          "shell.execute_reply.started": "2022-05-01T13:48:22.645975Z",
          "shell.execute_reply": "2022-05-01T13:51:23.741399Z"
        },
        "trusted": true,
        "id": "RcGY0yQC75jG",
        "colab": {
          "base_uri": "https://localhost:8080/",
          "height": 127
        },
        "outputId": "37921196-0f2e-48f2-ba52-3bb26eb35cc5"
      },
      "execution_count": null,
      "outputs": [
        {
          "output_type": "display_data",
          "data": {
            "text/plain": [
              "<IPython.core.display.HTML object>"
            ],
            "text/html": [
              "\n",
              "<style>\n",
              "    /* Turns off some styling */\n",
              "    progress {\n",
              "        /* gets rid of default border in Firefox and Opera. */\n",
              "        border: none;\n",
              "        /* Needs to be in here for Safari polyfill so background images work as expected. */\n",
              "        background-size: auto;\n",
              "    }\n",
              "    .progress-bar-interrupted, .progress-bar-interrupted::-webkit-progress-bar {\n",
              "        background: #F44336;\n",
              "    }\n",
              "</style>\n"
            ]
          },
          "metadata": {}
        },
        {
          "output_type": "display_data",
          "data": {
            "text/plain": [
              "<IPython.core.display.HTML object>"
            ],
            "text/html": [
              "\n",
              "    <div>\n",
              "      <progress value='1' class='' max='5' style='width:300px; height:20px; vertical-align: middle;'></progress>\n",
              "      20.00% [1/5 15:05<1:00:23]\n",
              "    </div>\n",
              "    \n",
              "<table border=\"1\" class=\"dataframe\">\n",
              "  <thead>\n",
              "    <tr style=\"text-align: left;\">\n",
              "      <th>epoch</th>\n",
              "      <th>train_loss</th>\n",
              "      <th>valid_loss</th>\n",
              "      <th>accuracy</th>\n",
              "      <th>time</th>\n",
              "    </tr>\n",
              "  </thead>\n",
              "  <tbody>\n",
              "    <tr>\n",
              "      <td>0</td>\n",
              "      <td>4.517951</td>\n",
              "      <td>4.364958</td>\n",
              "      <td>0.233954</td>\n",
              "      <td>15:05</td>\n",
              "    </tr>\n",
              "  </tbody>\n",
              "</table><p>\n",
              "\n",
              "    <div>\n",
              "      <progress value='274' class='' max='1338' style='width:300px; height:20px; vertical-align: middle;'></progress>\n",
              "      20.48% [274/1338 02:50<11:00 4.4428]\n",
              "    </div>\n",
              "    "
            ]
          },
          "metadata": {}
        }
      ]
    },
    {
      "cell_type": "code",
      "source": [
        " # Tune a little more\n",
        "learn.unfreeze()\n",
        "learn.fit_one_cycle(5, 1e-3, moms=(0.8,0.7))"
      ],
      "metadata": {
        "execution": {
          "iopub.status.busy": "2022-05-01T13:51:59.663533Z",
          "iopub.execute_input": "2022-05-01T13:51:59.663837Z",
          "iopub.status.idle": "2022-05-01T13:55:42.978451Z",
          "shell.execute_reply.started": "2022-05-01T13:51:59.663786Z",
          "shell.execute_reply": "2022-05-01T13:55:42.977438Z"
        },
        "trusted": true,
        "id": "BS90veID75jH"
      },
      "execution_count": null,
      "outputs": []
    },
    {
      "cell_type": "code",
      "source": [
        "learn.save_encoder('fine_tuned_enc')"
      ],
      "metadata": {
        "execution": {
          "iopub.status.busy": "2022-05-01T13:56:50.645474Z",
          "iopub.execute_input": "2022-05-01T13:56:50.645789Z",
          "iopub.status.idle": "2022-05-01T13:56:50.941858Z",
          "shell.execute_reply.started": "2022-05-01T13:56:50.645741Z",
          "shell.execute_reply": "2022-05-01T13:56:50.940723Z"
        },
        "trusted": true,
        "id": "YgLkzIRv75jH"
      },
      "execution_count": null,
      "outputs": []
    },
    {
      "cell_type": "code",
      "source": [
        "test_datalist = TextList.from_df(test, cols='text', vocab=data.vocab)\n",
        "\n",
        "data_clas = (TextList.from_df(train, cols='text', vocab=data.vocab)\n",
        "             .split_by_rand_pct(0.2)\n",
        "             .label_from_df(cols= 'target')\n",
        "             .add_test(test_datalist)\n",
        "             .databunch(bs=32))\n",
        "\n",
        "data_clas.show_batch()"
      ],
      "metadata": {
        "execution": {
          "iopub.status.busy": "2022-05-01T13:56:53.324568Z",
          "iopub.execute_input": "2022-05-01T13:56:53.324900Z",
          "iopub.status.idle": "2022-05-01T13:59:53.985346Z",
          "shell.execute_reply.started": "2022-05-01T13:56:53.324849Z",
          "shell.execute_reply": "2022-05-01T13:59:53.984495Z"
        },
        "trusted": true,
        "id": "bPZhFEaR75jI"
      },
      "execution_count": null,
      "outputs": []
    },
    {
      "cell_type": "code",
      "source": [
        "learn_classifier = text_classifier_learner(data_clas, AWD_LSTM, drop_mult=0.5)\n",
        "learn_classifier.load_encoder('fine_tuned_enc')\n",
        "learn_classifier.freeze()\n"
      ],
      "metadata": {
        "execution": {
          "iopub.status.busy": "2022-05-01T14:00:10.520973Z",
          "iopub.execute_input": "2022-05-01T14:00:10.521272Z",
          "iopub.status.idle": "2022-05-01T14:00:11.448909Z",
          "shell.execute_reply.started": "2022-05-01T14:00:10.521224Z",
          "shell.execute_reply": "2022-05-01T14:00:11.448073Z"
        },
        "trusted": true,
        "id": "IJQmXTws75jJ"
      },
      "execution_count": null,
      "outputs": []
    },
    {
      "cell_type": "code",
      "source": [
        "learn_classifier.lr_find()\n"
      ],
      "metadata": {
        "execution": {
          "iopub.status.busy": "2022-05-01T14:00:11.450620Z",
          "iopub.execute_input": "2022-05-01T14:00:11.450895Z",
          "iopub.status.idle": "2022-05-01T14:00:18.400893Z",
          "shell.execute_reply.started": "2022-05-01T14:00:11.450849Z",
          "shell.execute_reply": "2022-05-01T14:00:18.399997Z"
        },
        "trusted": true,
        "id": "_iGpxt1p75jJ"
      },
      "execution_count": null,
      "outputs": []
    },
    {
      "cell_type": "code",
      "source": [
        "learn_classifier.recorder.plot()"
      ],
      "metadata": {
        "execution": {
          "iopub.status.busy": "2022-05-01T14:00:18.402979Z",
          "iopub.execute_input": "2022-05-01T14:00:18.403490Z",
          "iopub.status.idle": "2022-05-01T14:00:18.996894Z",
          "shell.execute_reply.started": "2022-05-01T14:00:18.403435Z",
          "shell.execute_reply": "2022-05-01T14:00:18.996054Z"
        },
        "trusted": true,
        "id": "G_7U4NH375jK"
      },
      "execution_count": null,
      "outputs": []
    },
    {
      "cell_type": "code",
      "source": [
        "learn_classifier.fit_one_cycle(5, 2e-2, moms=(0.8,0.7))\n"
      ],
      "metadata": {
        "execution": {
          "iopub.status.busy": "2022-05-01T14:00:18.998453Z",
          "iopub.execute_input": "2022-05-01T14:00:18.998924Z"
        },
        "trusted": true,
        "id": "l4LtxwH475jK"
      },
      "execution_count": null,
      "outputs": []
    },
    {
      "cell_type": "code",
      "source": [
        "learn_classifier.freeze_to(-2)\n",
        "learn_classifier.fit_one_cycle(5, slice(1e-2/(2.6**4),1e-2), moms=(0.8,0.7))\n"
      ],
      "metadata": {
        "trusted": true,
        "id": "7EB2A74h75jL"
      },
      "execution_count": null,
      "outputs": []
    },
    {
      "cell_type": "code",
      "source": [
        "learn_classifier.freeze_to(-3)\n",
        "learn_classifier.fit_one_cycle(5, slice(5e-3/(2.6**4),5e-3), moms=(0.8,0.7))"
      ],
      "metadata": {
        "trusted": true,
        "id": "1q6u-2Sf75jL"
      },
      "execution_count": null,
      "outputs": []
    },
    {
      "cell_type": "code",
      "source": [
        "learn_classifier.show_results()\n"
      ],
      "metadata": {
        "trusted": true,
        "id": "xtjPqDRN75jL"
      },
      "execution_count": null,
      "outputs": []
    },
    {
      "cell_type": "code",
      "source": [
        "preds, target = learn_classifier.get_preds(DatasetType.Test, ordered=True)\n",
        "labels = np.argmax(preds, axis =1)\n"
      ],
      "metadata": {
        "trusted": true,
        "id": "aSUIWmue75jL"
      },
      "execution_count": null,
      "outputs": []
    },
    {
      "cell_type": "code",
      "source": [
        "submission = pd.DataFrame({'id': test_id, 'target': labels})\n",
        "submission.to_csv('submission.csv', index=False)\n",
        "submission.head()"
      ],
      "metadata": {
        "trusted": true,
        "id": "hIQX7Bap75jM"
      },
      "execution_count": null,
      "outputs": []
    },
    {
      "cell_type": "code",
      "source": [
        ""
      ],
      "metadata": {
        "trusted": true,
        "id": "iRKaBzsD75jN"
      },
      "execution_count": null,
      "outputs": []
    }
  ]
}